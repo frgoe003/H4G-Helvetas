{
 "cells": [
  {
   "cell_type": "code",
   "execution_count": 1,
   "id": "62d1a843",
   "metadata": {},
   "outputs": [],
   "source": [
    "import ee\n",
    "import geemap\n",
    "import matplotlib.pyplot as plt\n",
    "import pandas as pd\n",
    "import numpy as np"
   ]
  },
  {
   "cell_type": "code",
   "execution_count": 2,
   "id": "edfa8234",
   "metadata": {},
   "outputs": [],
   "source": [
    "# Initialize the library.\n",
    "ee.Initialize()"
   ]
  },
  {
   "cell_type": "markdown",
   "id": "e41a3140",
   "metadata": {},
   "source": [
    "## Configuration"
   ]
  },
  {
   "cell_type": "code",
   "execution_count": 3,
   "id": "d1dba0fd",
   "metadata": {},
   "outputs": [],
   "source": [
    "LABEL_DICT = {'built': 6, 'water': 0, 'tree': 1, 'grass': 2, 'flooded_veg': 3, 'crop': 4, \n",
    "             'shrub': 5, 'bare': 7}#, 'snow': 8}\n",
    "COLOR_DICT = {'built': '#C4281B', 'water': '#419BDF', 'tree': '#397D49', 'grass': '#88B053', \n",
    "              'flooded_veg': '#7A87C6', 'crop': '#E49635', \n",
    "             'shrub': '#DFC35A', 'bare': '#A59B8F'}#, 'snow': '#B39FE1'}"
   ]
  },
  {
   "cell_type": "code",
   "execution_count": 4,
   "id": "97a6f69f",
   "metadata": {},
   "outputs": [],
   "source": [
    "csv_file = 'DBR_Excel_data_pro.csv'"
   ]
  },
  {
   "cell_type": "markdown",
   "id": "b6a121de",
   "metadata": {},
   "source": [
    "## Load bridge info"
   ]
  },
  {
   "cell_type": "code",
   "execution_count": 5,
   "id": "2d2c7fc1",
   "metadata": {},
   "outputs": [],
   "source": [
    "df = pd.read_csv(csv_file)"
   ]
  },
  {
   "cell_type": "code",
   "execution_count": 6,
   "id": "5b8715cb",
   "metadata": {},
   "outputs": [
    {
     "data": {
      "text/html": [
       "<div>\n",
       "<style scoped>\n",
       "    .dataframe tbody tr th:only-of-type {\n",
       "        vertical-align: middle;\n",
       "    }\n",
       "\n",
       "    .dataframe tbody tr th {\n",
       "        vertical-align: top;\n",
       "    }\n",
       "\n",
       "    .dataframe thead th {\n",
       "        text-align: right;\n",
       "    }\n",
       "</style>\n",
       "<table border=\"1\" class=\"dataframe\">\n",
       "  <thead>\n",
       "    <tr style=\"text-align: right;\">\n",
       "      <th></th>\n",
       "      <th>Unnamed: 0</th>\n",
       "      <th>S.No</th>\n",
       "      <th>Bridge_No</th>\n",
       "      <th>Bridge_Name</th>\n",
       "      <th>Bridge_Type</th>\n",
       "      <th>Bridge_Span</th>\n",
       "      <th>River_Name</th>\n",
       "      <th>Trail_Type</th>\n",
       "      <th>District</th>\n",
       "      <th>Major_VDC</th>\n",
       "      <th>...</th>\n",
       "      <th>State</th>\n",
       "      <th>Ward_No</th>\n",
       "      <th>Latitude</th>\n",
       "      <th>Longitude</th>\n",
       "      <th>Const_Year</th>\n",
       "      <th>Local_Fund</th>\n",
       "      <th>Foreign_Agency</th>\n",
       "      <th>Bridge Condition</th>\n",
       "      <th>start_year</th>\n",
       "      <th>end_year</th>\n",
       "    </tr>\n",
       "  </thead>\n",
       "  <tbody>\n",
       "    <tr>\n",
       "      <th>0</th>\n",
       "      <td>0</td>\n",
       "      <td>1</td>\n",
       "      <td>01 5 002 18 06 01</td>\n",
       "      <td>Jogi Rumba</td>\n",
       "      <td>D</td>\n",
       "      <td>50</td>\n",
       "      <td>Sobuwa khola</td>\n",
       "      <td>Local</td>\n",
       "      <td>Taplejung</td>\n",
       "      <td>Hangdewa</td>\n",
       "      <td>...</td>\n",
       "      <td>1</td>\n",
       "      <td>NaN</td>\n",
       "      <td>27.377915</td>\n",
       "      <td>87.697766</td>\n",
       "      <td>2005/06</td>\n",
       "      <td>VDC</td>\n",
       "      <td>SDC</td>\n",
       "      <td>No action required</td>\n",
       "      <td>2005</td>\n",
       "      <td>2006</td>\n",
       "    </tr>\n",
       "    <tr>\n",
       "      <th>1</th>\n",
       "      <td>1</td>\n",
       "      <td>2</td>\n",
       "      <td>01 5 002 18 06 02</td>\n",
       "      <td>Dhupaure</td>\n",
       "      <td>ST</td>\n",
       "      <td>32</td>\n",
       "      <td>Dhupaure  Khola</td>\n",
       "      <td>Local</td>\n",
       "      <td>Taplejung</td>\n",
       "      <td>Hangdewa</td>\n",
       "      <td>...</td>\n",
       "      <td>1</td>\n",
       "      <td>NaN</td>\n",
       "      <td>27.364250</td>\n",
       "      <td>87.708946</td>\n",
       "      <td>1999/2000</td>\n",
       "      <td>Other</td>\n",
       "      <td>KAABGN</td>\n",
       "      <td>No action required</td>\n",
       "      <td>1999</td>\n",
       "      <td>2000</td>\n",
       "    </tr>\n",
       "    <tr>\n",
       "      <th>2</th>\n",
       "      <td>2</td>\n",
       "      <td>3</td>\n",
       "      <td>01 5 003 18 06 04</td>\n",
       "      <td>Mauwa Khola</td>\n",
       "      <td>D</td>\n",
       "      <td>60.5</td>\n",
       "      <td>Mauwa Khola</td>\n",
       "      <td>Main</td>\n",
       "      <td>Taplejung</td>\n",
       "      <td>Phuurumbu</td>\n",
       "      <td>...</td>\n",
       "      <td>1</td>\n",
       "      <td>NaN</td>\n",
       "      <td>27.413410</td>\n",
       "      <td>87.720686</td>\n",
       "      <td>2004/05</td>\n",
       "      <td>Other</td>\n",
       "      <td>KAABGN</td>\n",
       "      <td>No action required</td>\n",
       "      <td>2004</td>\n",
       "      <td>2005</td>\n",
       "    </tr>\n",
       "    <tr>\n",
       "      <th>3</th>\n",
       "      <td>3</td>\n",
       "      <td>4</td>\n",
       "      <td>01 5 003 18 06 05</td>\n",
       "      <td>Gopani</td>\n",
       "      <td>D</td>\n",
       "      <td>50</td>\n",
       "      <td>Gopani Khola</td>\n",
       "      <td>Local</td>\n",
       "      <td>Taplejung</td>\n",
       "      <td>Phuurumbu</td>\n",
       "      <td>...</td>\n",
       "      <td>1</td>\n",
       "      <td>NaN</td>\n",
       "      <td>27.398313</td>\n",
       "      <td>87.731395</td>\n",
       "      <td>2007/08</td>\n",
       "      <td>VDC</td>\n",
       "      <td>DRILP+SDC/DFID</td>\n",
       "      <td>No action required</td>\n",
       "      <td>2007</td>\n",
       "      <td>2008</td>\n",
       "    </tr>\n",
       "    <tr>\n",
       "      <th>4</th>\n",
       "      <td>4</td>\n",
       "      <td>5</td>\n",
       "      <td>01 5 004 18 06 01</td>\n",
       "      <td>Thouwa</td>\n",
       "      <td>D</td>\n",
       "      <td>37</td>\n",
       "      <td>Sisne  Khola</td>\n",
       "      <td>Local</td>\n",
       "      <td>Taplejung</td>\n",
       "      <td>Limkhim</td>\n",
       "      <td>...</td>\n",
       "      <td>1</td>\n",
       "      <td>NaN</td>\n",
       "      <td>27.428107</td>\n",
       "      <td>87.713575</td>\n",
       "      <td>1998/99</td>\n",
       "      <td>VDC</td>\n",
       "      <td>SDC</td>\n",
       "      <td>No action required</td>\n",
       "      <td>1998</td>\n",
       "      <td>1999</td>\n",
       "    </tr>\n",
       "  </tbody>\n",
       "</table>\n",
       "<p>5 rows × 21 columns</p>\n",
       "</div>"
      ],
      "text/plain": [
       "   Unnamed: 0  S.No          Bridge_No  Bridge_Name Bridge_Type Bridge_Span  \\\n",
       "0           0     1  01 5 002 18 06 01   Jogi Rumba           D          50   \n",
       "1           1     2  01 5 002 18 06 02     Dhupaure          ST          32   \n",
       "2           2     3  01 5 003 18 06 04  Mauwa Khola           D        60.5   \n",
       "3           3     4  01 5 003 18 06 05       Gopani           D          50   \n",
       "4           4     5  01 5 004 18 06 01       Thouwa           D          37   \n",
       "\n",
       "        River_Name Trail_Type   District  Major_VDC  ... State  Ward_No  \\\n",
       "0     Sobuwa khola      Local  Taplejung   Hangdewa  ...     1      NaN   \n",
       "1  Dhupaure  Khola      Local  Taplejung   Hangdewa  ...     1      NaN   \n",
       "2      Mauwa Khola       Main  Taplejung  Phuurumbu  ...     1      NaN   \n",
       "3     Gopani Khola      Local  Taplejung  Phuurumbu  ...     1      NaN   \n",
       "4     Sisne  Khola      Local  Taplejung    Limkhim  ...     1      NaN   \n",
       "\n",
       "    Latitude  Longitude  Const_Year Local_Fund  Foreign_Agency  \\\n",
       "0  27.377915  87.697766     2005/06        VDC             SDC   \n",
       "1  27.364250  87.708946   1999/2000      Other          KAABGN   \n",
       "2  27.413410  87.720686     2004/05      Other          KAABGN   \n",
       "3  27.398313  87.731395     2007/08        VDC  DRILP+SDC/DFID   \n",
       "4  27.428107  87.713575     1998/99        VDC             SDC   \n",
       "\n",
       "     Bridge Condition start_year  end_year  \n",
       "0  No action required       2005      2006  \n",
       "1  No action required       1999      2000  \n",
       "2  No action required       2004      2005  \n",
       "3  No action required       2007      2008  \n",
       "4  No action required       1998      1999  \n",
       "\n",
       "[5 rows x 21 columns]"
      ]
     },
     "execution_count": 6,
     "metadata": {},
     "output_type": "execute_result"
    }
   ],
   "source": [
    "df.head()"
   ]
  },
  {
   "cell_type": "markdown",
   "id": "2c30d8ba",
   "metadata": {},
   "source": [
    "take one bridge as example"
   ]
  },
  {
   "cell_type": "code",
   "execution_count": 7,
   "id": "de547aa7",
   "metadata": {},
   "outputs": [
    {
     "data": {
      "text/plain": [
       "Unnamed: 0                        7804\n",
       "S.No                              7805\n",
       "Bridge_No           04 3 0803 18 06 11\n",
       "Bridge_Name             Simtada (LSTB)\n",
       "Bridge_Type                         LD\n",
       "Bridge_Span                        165\n",
       "River_Name                 Thuli Bheri\n",
       "Trail_Type                       Local\n",
       "District                 Western Rukum\n",
       "Major_VDC             Aathbiskot Na Pa\n",
       "Major Palika          Aathbiskot Na Pa\n",
       "State                                0\n",
       "Ward_No                            NaN\n",
       "Latitude                     28.825828\n",
       "Longitude                    82.381146\n",
       "Const_Year                   2019/2020\n",
       "Local_Fund                         NaN\n",
       "Foreign_Agency                    SWAp\n",
       "Bridge Condition    No action required\n",
       "start_year                        2019\n",
       "end_year                          2020\n",
       "Name: 6000, dtype: object"
      ]
     },
     "execution_count": 7,
     "metadata": {},
     "output_type": "execute_result"
    }
   ],
   "source": [
    "df.loc[6000]"
   ]
  },
  {
   "cell_type": "code",
   "execution_count": 8,
   "id": "737c8f37",
   "metadata": {},
   "outputs": [],
   "source": [
    "bridge = df.loc[6000]"
   ]
  },
  {
   "cell_type": "markdown",
   "id": "efec8bda",
   "metadata": {},
   "source": [
    "## Convert/download class map as array"
   ]
  },
  {
   "cell_type": "markdown",
   "id": "ae6f3dd7",
   "metadata": {},
   "source": [
    "* randomly pick one dynamic world fullfill the filter criterias\n",
    "* return its class map as array (for further analysis & visualization)"
   ]
  },
  {
   "cell_type": "code",
   "execution_count": 61,
   "id": "625110d4",
   "metadata": {},
   "outputs": [],
   "source": [
    "def getArray(lon, lat, year, distance=1000):\n",
    "    # creat point\n",
    "    point = ee.Geometry.Point(lon, lat)\n",
    "    \n",
    "    # creat buffer as geometry\n",
    "    geometry = point.buffer(distance=distance)\n",
    "    \n",
    "    # define time range (annual)\n",
    "    startDate = '{}-01-01'.format(year)\n",
    "    endDate = '{}-01-01'.format(int(year)+1)\n",
    "    \n",
    "    # select S2 and corresponding DW\n",
    "    s2 = ee.ImageCollection('COPERNICUS/S2_HARMONIZED').filterDate(startDate, \n",
    "                            endDate).filterBounds(geometry).filter(ee.Filter.lt('CLOUDY_PIXEL_PERCENTAGE', 35))\n",
    "    s2Image = ee.Image(s2.first())\n",
    "    imageId = s2Image.get('system:index').getInfo()\n",
    "    dw = ee.ImageCollection('GOOGLE/DYNAMICWORLD/V1').filter(ee.Filter.eq('system:index', imageId))\n",
    "    dwImage = ee.Image(dw.first())\n",
    "    classification = dwImage.select('label')\n",
    "    \n",
    "    # convert to np.array\n",
    "    rgb_img = geemap.ee_to_numpy(classification, region=geometry)\n",
    "    print(rgb_img.shape)\n",
    "    \n",
    "    # visualize\n",
    "    plt.imshow(rgb_img)\n",
    "    plt.title('Image {} for bridge built on year {} at ({}, {})'.format(imageId, year, lon, lat))\n",
    "    plt.show()\n",
    "    \n",
    "    return rgb_img"
   ]
  },
  {
   "cell_type": "code",
   "execution_count": 10,
   "id": "b158c544",
   "metadata": {},
   "outputs": [],
   "source": [
    "lat, lon = bridge['Latitude'], bridge['Longitude']\n",
    "start_year, end_year = bridge['start_year'], bridge['end_year']"
   ]
  },
  {
   "cell_type": "code",
   "execution_count": 62,
   "id": "a7cdd799",
   "metadata": {},
   "outputs": [
    {
     "name": "stdout",
     "output_type": "stream",
     "text": [
      "(200, 200, 1)\n"
     ]
    },
    {
     "data": {
      "image/png": "[encoded data removed]",
      "text/plain": [
       "<Figure size 432x288 with 1 Axes>"
      ]
     },
     "metadata": {
      "needs_background": "light"
     },
     "output_type": "display_data"
    }
   ],
   "source": [
    "rgb_img = getArray(lon, lat, start_year)"
   ]
  },
  {
   "cell_type": "code",
   "execution_count": 63,
   "id": "8038699b",
   "metadata": {},
   "outputs": [
    {
     "data": {
      "text/plain": [
       "array([0, 1, 3, 4, 5, 7, 8])"
      ]
     },
     "execution_count": 63,
     "metadata": {},
     "output_type": "execute_result"
    }
   ],
   "source": [
    "np.unique(rgb_img)"
   ]
  }
 ],
 "metadata": {
  "kernelspec": {
   "display_name": "Python 3 (ipykernel)",
   "language": "python",
   "name": "python3"
  },
  "language_info": {
   "codemirror_mode": {
    "name": "ipython",
    "version": 3
   },
   "file_extension": ".py",
   "mimetype": "text/x-python",
   "name": "python",
   "nbconvert_exporter": "python",
   "pygments_lexer": "ipython3",
   "version": "3.8.10"
  }
 },
 "nbformat": 4,
 "nbformat_minor": 5
}
