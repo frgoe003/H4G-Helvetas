{
 "cells": [
  {
   "cell_type": "code",
   "execution_count": 1,
   "id": "62d1a843",
   "metadata": {},
   "outputs": [],
   "source": [
    "import ee\n",
    "import geemap\n",
    "import matplotlib.pyplot as plt\n",
    "import pandas as pd\n",
    "import numpy as np"
   ]
  },
  {
   "cell_type": "code",
   "execution_count": 2,
   "id": "edfa8234",
   "metadata": {},
   "outputs": [],
   "source": [
    "# Initialize the library.\n",
    "ee.Initialize()"
   ]
  },
  {
   "cell_type": "markdown",
   "id": "e41a3140",
   "metadata": {},
   "source": [
    "## Configuration"
   ]
  },
  {
   "cell_type": "code",
   "execution_count": 3,
   "id": "d1dba0fd",
   "metadata": {},
   "outputs": [],
   "source": [
    "LABEL_DICT = {'built': 6, 'water': 0, 'tree': 1, 'grass': 2, 'flooded_veg': 3, 'crop': 4, \n",
    "             'shrub': 5, 'bare': 7}#, 'snow': 8}\n",
    "COLOR_DICT = {'built': '#C4281B', 'water': '#419BDF', 'tree': '#397D49', 'grass': '#88B053', \n",
    "              'flooded_veg': '#7A87C6', 'crop': '#E49635', \n",
    "             'shrub': '#DFC35A', 'bare': '#A59B8F'}#, 'snow': '#B39FE1'}"
   ]
  },
  {
   "cell_type": "code",
   "execution_count": 4,
   "id": "97a6f69f",
   "metadata": {},
   "outputs": [],
   "source": [
    "csv_file = 'DBR_Excel_data_pro.csv'"
   ]
  },
  {
   "cell_type": "markdown",
   "id": "b6a121de",
   "metadata": {},
   "source": [
    "## Load bridge info"
   ]
  },
  {
   "cell_type": "code",
   "execution_count": 5,
   "id": "2d2c7fc1",
   "metadata": {},
   "outputs": [],
   "source": [
    "df = pd.read_csv(csv_file)"
   ]
  },
  {
   "cell_type": "code",
   "execution_count": 6,
   "id": "5b8715cb",
   "metadata": {},
   "outputs": [
    {
     "data": {
      "text/html": [
       "<div>\n",
       "<style scoped>\n",
       "    .dataframe tbody tr th:only-of-type {\n",
       "        vertical-align: middle;\n",
       "    }\n",
       "\n",
       "    .dataframe tbody tr th {\n",
       "        vertical-align: top;\n",
       "    }\n",
       "\n",
       "    .dataframe thead th {\n",
       "        text-align: right;\n",
       "    }\n",
       "</style>\n",
       "<table border=\"1\" class=\"dataframe\">\n",
       "  <thead>\n",
       "    <tr style=\"text-align: right;\">\n",
       "      <th></th>\n",
       "      <th>Unnamed: 0</th>\n",
       "      <th>S.No</th>\n",
       "      <th>Bridge_No</th>\n",
       "      <th>Bridge_Name</th>\n",
       "      <th>Bridge_Type</th>\n",
       "      <th>Bridge_Span</th>\n",
       "      <th>River_Name</th>\n",
       "      <th>Trail_Type</th>\n",
       "      <th>District</th>\n",
       "      <th>Major_VDC</th>\n",
       "      <th>...</th>\n",
       "      <th>State</th>\n",
       "      <th>Ward_No</th>\n",
       "      <th>Latitude</th>\n",
       "      <th>Longitude</th>\n",
       "      <th>Const_Year</th>\n",
       "      <th>Local_Fund</th>\n",
       "      <th>Foreign_Agency</th>\n",
       "      <th>Bridge Condition</th>\n",
       "      <th>start_year</th>\n",
       "      <th>end_year</th>\n",
       "    </tr>\n",
       "  </thead>\n",
       "  <tbody>\n",
       "    <tr>\n",
       "      <th>0</th>\n",
       "      <td>0</td>\n",
       "      <td>1</td>\n",
       "      <td>01 5 002 18 06 01</td>\n",
       "      <td>Jogi Rumba</td>\n",
       "      <td>D</td>\n",
       "      <td>50</td>\n",
       "      <td>Sobuwa khola</td>\n",
       "      <td>Local</td>\n",
       "      <td>Taplejung</td>\n",
       "      <td>Hangdewa</td>\n",
       "      <td>...</td>\n",
       "      <td>1</td>\n",
       "      <td>NaN</td>\n",
       "      <td>27.377915</td>\n",
       "      <td>87.697766</td>\n",
       "      <td>2005/06</td>\n",
       "      <td>VDC</td>\n",
       "      <td>SDC</td>\n",
       "      <td>No action required</td>\n",
       "      <td>2005</td>\n",
       "      <td>2006</td>\n",
       "    </tr>\n",
       "    <tr>\n",
       "      <th>1</th>\n",
       "      <td>1</td>\n",
       "      <td>2</td>\n",
       "      <td>01 5 002 18 06 02</td>\n",
       "      <td>Dhupaure</td>\n",
       "      <td>ST</td>\n",
       "      <td>32</td>\n",
       "      <td>Dhupaure  Khola</td>\n",
       "      <td>Local</td>\n",
       "      <td>Taplejung</td>\n",
       "      <td>Hangdewa</td>\n",
       "      <td>...</td>\n",
       "      <td>1</td>\n",
       "      <td>NaN</td>\n",
       "      <td>27.364250</td>\n",
       "      <td>87.708946</td>\n",
       "      <td>1999/2000</td>\n",
       "      <td>Other</td>\n",
       "      <td>KAABGN</td>\n",
       "      <td>No action required</td>\n",
       "      <td>1999</td>\n",
       "      <td>2000</td>\n",
       "    </tr>\n",
       "    <tr>\n",
       "      <th>2</th>\n",
       "      <td>2</td>\n",
       "      <td>3</td>\n",
       "      <td>01 5 003 18 06 04</td>\n",
       "      <td>Mauwa Khola</td>\n",
       "      <td>D</td>\n",
       "      <td>60.5</td>\n",
       "      <td>Mauwa Khola</td>\n",
       "      <td>Main</td>\n",
       "      <td>Taplejung</td>\n",
       "      <td>Phuurumbu</td>\n",
       "      <td>...</td>\n",
       "      <td>1</td>\n",
       "      <td>NaN</td>\n",
       "      <td>27.413410</td>\n",
       "      <td>87.720686</td>\n",
       "      <td>2004/05</td>\n",
       "      <td>Other</td>\n",
       "      <td>KAABGN</td>\n",
       "      <td>No action required</td>\n",
       "      <td>2004</td>\n",
       "      <td>2005</td>\n",
       "    </tr>\n",
       "    <tr>\n",
       "      <th>3</th>\n",
       "      <td>3</td>\n",
       "      <td>4</td>\n",
       "      <td>01 5 003 18 06 05</td>\n",
       "      <td>Gopani</td>\n",
       "      <td>D</td>\n",
       "      <td>50</td>\n",
       "      <td>Gopani Khola</td>\n",
       "      <td>Local</td>\n",
       "      <td>Taplejung</td>\n",
       "      <td>Phuurumbu</td>\n",
       "      <td>...</td>\n",
       "      <td>1</td>\n",
       "      <td>NaN</td>\n",
       "      <td>27.398313</td>\n",
       "      <td>87.731395</td>\n",
       "      <td>2007/08</td>\n",
       "      <td>VDC</td>\n",
       "      <td>DRILP+SDC/DFID</td>\n",
       "      <td>No action required</td>\n",
       "      <td>2007</td>\n",
       "      <td>2008</td>\n",
       "    </tr>\n",
       "    <tr>\n",
       "      <th>4</th>\n",
       "      <td>4</td>\n",
       "      <td>5</td>\n",
       "      <td>01 5 004 18 06 01</td>\n",
       "      <td>Thouwa</td>\n",
       "      <td>D</td>\n",
       "      <td>37</td>\n",
       "      <td>Sisne  Khola</td>\n",
       "      <td>Local</td>\n",
       "      <td>Taplejung</td>\n",
       "      <td>Limkhim</td>\n",
       "      <td>...</td>\n",
       "      <td>1</td>\n",
       "      <td>NaN</td>\n",
       "      <td>27.428107</td>\n",
       "      <td>87.713575</td>\n",
       "      <td>1998/99</td>\n",
       "      <td>VDC</td>\n",
       "      <td>SDC</td>\n",
       "      <td>No action required</td>\n",
       "      <td>1998</td>\n",
       "      <td>1999</td>\n",
       "    </tr>\n",
       "  </tbody>\n",
       "</table>\n",
       "<p>5 rows × 21 columns</p>\n",
       "</div>"
      ],
      "text/plain": [
       "   Unnamed: 0  S.No          Bridge_No  Bridge_Name Bridge_Type Bridge_Span  \\\n",
       "0           0     1  01 5 002 18 06 01   Jogi Rumba           D          50   \n",
       "1           1     2  01 5 002 18 06 02     Dhupaure          ST          32   \n",
       "2           2     3  01 5 003 18 06 04  Mauwa Khola           D        60.5   \n",
       "3           3     4  01 5 003 18 06 05       Gopani           D          50   \n",
       "4           4     5  01 5 004 18 06 01       Thouwa           D          37   \n",
       "\n",
       "        River_Name Trail_Type   District  Major_VDC  ... State  Ward_No  \\\n",
       "0     Sobuwa khola      Local  Taplejung   Hangdewa  ...     1      NaN   \n",
       "1  Dhupaure  Khola      Local  Taplejung   Hangdewa  ...     1      NaN   \n",
       "2      Mauwa Khola       Main  Taplejung  Phuurumbu  ...     1      NaN   \n",
       "3     Gopani Khola      Local  Taplejung  Phuurumbu  ...     1      NaN   \n",
       "4     Sisne  Khola      Local  Taplejung    Limkhim  ...     1      NaN   \n",
       "\n",
       "    Latitude  Longitude  Const_Year Local_Fund  Foreign_Agency  \\\n",
       "0  27.377915  87.697766     2005/06        VDC             SDC   \n",
       "1  27.364250  87.708946   1999/2000      Other          KAABGN   \n",
       "2  27.413410  87.720686     2004/05      Other          KAABGN   \n",
       "3  27.398313  87.731395     2007/08        VDC  DRILP+SDC/DFID   \n",
       "4  27.428107  87.713575     1998/99        VDC             SDC   \n",
       "\n",
       "     Bridge Condition start_year  end_year  \n",
       "0  No action required       2005      2006  \n",
       "1  No action required       1999      2000  \n",
       "2  No action required       2004      2005  \n",
       "3  No action required       2007      2008  \n",
       "4  No action required       1998      1999  \n",
       "\n",
       "[5 rows x 21 columns]"
      ]
     },
     "execution_count": 6,
     "metadata": {},
     "output_type": "execute_result"
    }
   ],
   "source": [
    "df.head()"
   ]
  },
  {
   "cell_type": "markdown",
   "id": "2c30d8ba",
   "metadata": {},
   "source": [
    "take one bridge as example"
   ]
  },
  {
   "cell_type": "code",
   "execution_count": 7,
   "id": "de547aa7",
   "metadata": {},
   "outputs": [
    {
     "data": {
      "text/plain": [
       "Unnamed: 0                        7804\n",
       "S.No                              7805\n",
       "Bridge_No           04 3 0803 18 06 11\n",
       "Bridge_Name             Simtada (LSTB)\n",
       "Bridge_Type                         LD\n",
       "Bridge_Span                        165\n",
       "River_Name                 Thuli Bheri\n",
       "Trail_Type                       Local\n",
       "District                 Western Rukum\n",
       "Major_VDC             Aathbiskot Na Pa\n",
       "Major Palika          Aathbiskot Na Pa\n",
       "State                                0\n",
       "Ward_No                            NaN\n",
       "Latitude                     28.825828\n",
       "Longitude                    82.381146\n",
       "Const_Year                   2019/2020\n",
       "Local_Fund                         NaN\n",
       "Foreign_Agency                    SWAp\n",
       "Bridge Condition    No action required\n",
       "start_year                        2019\n",
       "end_year                          2020\n",
       "Name: 6000, dtype: object"
      ]
     },
     "execution_count": 7,
     "metadata": {},
     "output_type": "execute_result"
    }
   ],
   "source": [
    "df.loc[6000]"
   ]
  },
  {
   "cell_type": "code",
   "execution_count": 8,
   "id": "737c8f37",
   "metadata": {},
   "outputs": [],
   "source": [
    "bridge = df.loc[6000]"
   ]
  },
  {
   "cell_type": "markdown",
   "id": "cdcd50e3",
   "metadata": {},
   "source": [
    "## Compute annual-averaged fraction of built-area around this bridge"
   ]
  },
  {
   "cell_type": "code",
   "execution_count": 9,
   "id": "def01d5d",
   "metadata": {},
   "outputs": [],
   "source": [
    "def getAnnualFraction(lon, lat, year, label='built', distance=1000):\n",
    "    # creat point\n",
    "    point = ee.Geometry.Point(lon, lat)\n",
    "    \n",
    "    # creat buffer as geometry\n",
    "    geometry = point.buffer(distance=distance)\n",
    "    \n",
    "    # define time range (annual)\n",
    "    startDate = '{}-01-01'.format(year)\n",
    "    endDate = '{}-01-01'.format(int(year)+1)\n",
    "    \n",
    "    if label not in list(LABEL_DICT.keys()):\n",
    "        print('UNKNOWN CLASS NAME')\n",
    "        return\n",
    "    label_idx = LABEL_DICT[label]\n",
    "    print('generate {} fraction for year {} at ({}, {})'.format(label, year, lon, lat))\n",
    "    \n",
    "    # get annual composite Dynamic World Product\n",
    "    dw = ee.ImageCollection('GOOGLE/DYNAMICWORLD/V1').filterDate(startDate, endDate).filterBounds(geometry)\n",
    "    classification = dw.select('label')\n",
    "    dwComposite = classification.reduce(ee.Reducer.mode())\n",
    "    \n",
    "    # compute fraction\n",
    "    area = dwComposite.eq(label_idx)\n",
    "    dwComposite = dwComposite.rename(['classification'])\n",
    "    area = area.rename([label])\n",
    "    \n",
    "    # Count all pixels.\n",
    "    statsTotal = area.reduceRegion(\n",
    "        reducer=ee.Reducer.count(),\n",
    "        geometry=geometry,\n",
    "        scale=10,\n",
    "        maxPixels=1e10\n",
    "        )\n",
    "    totalPixels = statsTotal.get(label).getInfo()\n",
    "\n",
    "    # Mask 0 pixel values and count remaining pixels.\n",
    "    areaMasked = area.selfMask()\n",
    "\n",
    "    statsMasked = areaMasked.reduceRegion(\n",
    "        reducer=ee.Reducer.count(),\n",
    "        geometry=geometry,\n",
    "        scale=10,\n",
    "        maxPixels=1e10\n",
    "        )\n",
    "    areaPixels = statsMasked.get(label).getInfo()\n",
    "    \n",
    "    fraction = areaPixels/totalPixels\n",
    "\n",
    "    print('{}/total = {}/{} = {} %'.format(label, areaPixels, totalPixels, \n",
    "                                             fraction, 100*fraction))\n",
    "    return totalPixels, areaPixels, fraction"
   ]
  },
  {
   "cell_type": "code",
   "execution_count": 10,
   "id": "b158c544",
   "metadata": {},
   "outputs": [],
   "source": [
    "lat, lon = bridge['Latitude'], bridge['Longitude']\n",
    "start_year, end_year = bridge['start_year'], bridge['end_year']"
   ]
  },
  {
   "cell_type": "code",
   "execution_count": 11,
   "id": "d9696cca",
   "metadata": {
    "scrolled": true
   },
   "outputs": [
    {
     "name": "stdout",
     "output_type": "stream",
     "text": [
      "generate built fraction for year 2016 at (82.38114581, 28.8258284)\n",
      "built/total = 63/35511 = 0.0017740981667652277 %\n",
      "generate built fraction for year 2017 at (82.38114581, 28.8258284)\n",
      "built/total = 70/35511 = 0.001971220185294697 %\n",
      "generate built fraction for year 2018 at (82.38114581, 28.8258284)\n",
      "built/total = 98/35511 = 0.0027597082594125765 %\n",
      "generate built fraction for year 2019 at (82.38114581, 28.8258284)\n",
      "built/total = 71/35511 = 0.0019993804736560504 %\n",
      "generate built fraction for year 2020 at (82.38114581, 28.8258284)\n",
      "built/total = 90/35511 = 0.0025344259525217536 %\n",
      "generate built fraction for year 2021 at (82.38114581, 28.8258284)\n",
      "built/total = 219/35511 = 0.006167103151136268 %\n",
      "generate built fraction for year 2022 at (82.38114581, 28.8258284)\n",
      "built/total = 212/35511 = 0.005969981132606798 %\n",
      "generate water fraction for year 2016 at (82.38114581, 28.8258284)\n",
      "water/total = 1641/35511 = 0.04621103320097998 %\n",
      "generate water fraction for year 2017 at (82.38114581, 28.8258284)\n",
      "water/total = 1676/35511 = 0.04719664329362733 %\n",
      "generate water fraction for year 2018 at (82.38114581, 28.8258284)\n",
      "water/total = 1696/35511 = 0.047759849060854384 %\n",
      "generate water fraction for year 2019 at (82.38114581, 28.8258284)\n",
      "water/total = 1745/35511 = 0.04913970319056067 %\n",
      "generate water fraction for year 2020 at (82.38114581, 28.8258284)\n",
      "water/total = 1725/35511 = 0.048576497423333614 %\n",
      "generate water fraction for year 2021 at (82.38114581, 28.8258284)\n",
      "water/total = 1839/35511 = 0.05178677029652784 %\n",
      "generate water fraction for year 2022 at (82.38114581, 28.8258284)\n",
      "water/total = 1851/35511 = 0.05212469375686407 %\n",
      "generate tree fraction for year 2016 at (82.38114581, 28.8258284)\n",
      "tree/total = 25997/35511 = 0.7320830165300892 %\n",
      "generate tree fraction for year 2017 at (82.38114581, 28.8258284)\n",
      "tree/total = 24171/35511 = 0.6806623299822591 %\n",
      "generate tree fraction for year 2018 at (82.38114581, 28.8258284)\n",
      "tree/total = 24583/35511 = 0.6922643687871364 %\n",
      "generate tree fraction for year 2019 at (82.38114581, 28.8258284)\n",
      "tree/total = 25207/35511 = 0.7098363887246205 %\n",
      "generate tree fraction for year 2020 at (82.38114581, 28.8258284)\n",
      "tree/total = 24338/35511 = 0.6853650981386049 %\n",
      "generate tree fraction for year 2021 at (82.38114581, 28.8258284)\n",
      "tree/total = 24481/35511 = 0.6893920193742784 %\n",
      "generate tree fraction for year 2022 at (82.38114581, 28.8258284)\n",
      "tree/total = 22820/35511 = 0.6426177804060713 %\n",
      "generate grass fraction for year 2016 at (82.38114581, 28.8258284)\n",
      "grass/total = 3/35511 = 8.448086508405846e-05 %\n",
      "generate grass fraction for year 2017 at (82.38114581, 28.8258284)\n",
      "grass/total = 0/35511 = 0.0 %\n",
      "generate grass fraction for year 2018 at (82.38114581, 28.8258284)\n",
      "grass/total = 0/35511 = 0.0 %\n",
      "generate grass fraction for year 2019 at (82.38114581, 28.8258284)\n",
      "grass/total = 0/35511 = 0.0 %\n",
      "generate grass fraction for year 2020 at (82.38114581, 28.8258284)\n",
      "grass/total = 0/35511 = 0.0 %\n",
      "generate grass fraction for year 2021 at (82.38114581, 28.8258284)\n",
      "grass/total = 1/35511 = 2.816028836135282e-05 %\n",
      "generate grass fraction for year 2022 at (82.38114581, 28.8258284)\n",
      "grass/total = 0/35511 = 0.0 %\n",
      "generate flooded_veg fraction for year 2016 at (82.38114581, 28.8258284)\n",
      "flooded_veg/total = 5/35511 = 0.0001408014418067641 %\n",
      "generate flooded_veg fraction for year 2017 at (82.38114581, 28.8258284)\n",
      "flooded_veg/total = 0/35511 = 0.0 %\n",
      "generate flooded_veg fraction for year 2018 at (82.38114581, 28.8258284)\n",
      "flooded_veg/total = 11/35511 = 0.000309763171974881 %\n",
      "generate flooded_veg fraction for year 2019 at (82.38114581, 28.8258284)\n",
      "flooded_veg/total = 19/35511 = 0.0005350454788657035 %\n",
      "generate flooded_veg fraction for year 2020 at (82.38114581, 28.8258284)\n",
      "flooded_veg/total = 0/35511 = 0.0 %\n",
      "generate flooded_veg fraction for year 2021 at (82.38114581, 28.8258284)\n",
      "flooded_veg/total = 3/35511 = 8.448086508405846e-05 %\n",
      "generate flooded_veg fraction for year 2022 at (82.38114581, 28.8258284)\n",
      "flooded_veg/total = 0/35511 = 0.0 %\n",
      "generate crop fraction for year 2016 at (82.38114581, 28.8258284)\n",
      "crop/total = 104/35511 = 0.0029286699895806935 %\n",
      "generate crop fraction for year 2017 at (82.38114581, 28.8258284)\n",
      "crop/total = 70/35511 = 0.001971220185294697 %\n",
      "generate crop fraction for year 2018 at (82.38114581, 28.8258284)\n",
      "crop/total = 244/35511 = 0.006871110360170088 %\n",
      "generate crop fraction for year 2019 at (82.38114581, 28.8258284)\n",
      "crop/total = 214/35511 = 0.0060263017093295035 %\n",
      "generate crop fraction for year 2020 at (82.38114581, 28.8258284)\n",
      "crop/total = 86/35511 = 0.0024217847990763426 %\n",
      "generate crop fraction for year 2021 at (82.38114581, 28.8258284)\n",
      "crop/total = 93/35511 = 0.0026189068176058123 %\n",
      "generate crop fraction for year 2022 at (82.38114581, 28.8258284)\n",
      "crop/total = 36/35511 = 0.0010137703810087016 %\n",
      "generate shrub fraction for year 2016 at (82.38114581, 28.8258284)\n",
      "shrub/total = 7690/35511 = 0.2165526174988032 %\n",
      "generate shrub fraction for year 2017 at (82.38114581, 28.8258284)\n",
      "shrub/total = 9518/35511 = 0.26802962462335617 %\n",
      "generate shrub fraction for year 2018 at (82.38114581, 28.8258284)\n",
      "shrub/total = 8878/35511 = 0.25000704007209035 %\n",
      "generate shrub fraction for year 2019 at (82.38114581, 28.8258284)\n",
      "shrub/total = 8254/35511 = 0.23243502013460618 %\n",
      "generate shrub fraction for year 2020 at (82.38114581, 28.8258284)\n",
      "shrub/total = 9272/35511 = 0.26110219368646337 %\n",
      "generate shrub fraction for year 2021 at (82.38114581, 28.8258284)\n",
      "shrub/total = 8853/35511 = 0.24930303286305652 %\n",
      "generate shrub fraction for year 2022 at (82.38114581, 28.8258284)\n",
      "shrub/total = 10550/35511 = 0.2970910422122722 %\n",
      "generate bare fraction for year 2016 at (82.38114581, 28.8258284)\n",
      "bare/total = 8/35511 = 0.00022528230689082256 %\n",
      "generate bare fraction for year 2017 at (82.38114581, 28.8258284)\n",
      "bare/total = 6/35511 = 0.0001689617301681169 %\n",
      "generate bare fraction for year 2018 at (82.38114581, 28.8258284)\n",
      "bare/total = 1/35511 = 2.816028836135282e-05 %\n",
      "generate bare fraction for year 2019 at (82.38114581, 28.8258284)\n",
      "bare/total = 1/35511 = 2.816028836135282e-05 %\n",
      "generate bare fraction for year 2020 at (82.38114581, 28.8258284)\n",
      "bare/total = 0/35511 = 0.0 %\n",
      "generate bare fraction for year 2021 at (82.38114581, 28.8258284)\n",
      "bare/total = 21/35511 = 0.0005913660555884093 %\n",
      "generate bare fraction for year 2022 at (82.38114581, 28.8258284)\n",
      "bare/total = 39/35511 = 0.00109825124609276 %\n"
     ]
    }
   ],
   "source": [
    "results = {}\n",
    "for l in LABEL_DICT:\n",
    "    results[l] = {}\n",
    "    results[l]['fractions'], results[l]['years'] = [], []\n",
    "    for y in range(start_year-3, end_year+3):\n",
    "        _, _, fraction = getAnnualFraction(lon, lat, y, label=l, distance=1000)\n",
    "        results[l]['fractions'].append(fraction)\n",
    "        results[l]['years'].append(y)"
   ]
  },
  {
   "cell_type": "markdown",
   "id": "e12bdefb",
   "metadata": {},
   "source": [
    "## Visualization"
   ]
  },
  {
   "cell_type": "code",
   "execution_count": 12,
   "id": "01655704",
   "metadata": {},
   "outputs": [],
   "source": [
    "import matplotlib.pyplot as plt"
   ]
  },
  {
   "cell_type": "code",
   "execution_count": 13,
   "id": "52b86458",
   "metadata": {},
   "outputs": [
    {
     "data": {
      "text/plain": [
       "Text(0.5, 1.0, 'Land Cover Fraction for Bridge at (82.38114581, 28.8258284) from 2016 - 2022')"
      ]
     },
     "execution_count": 13,
     "metadata": {},
     "output_type": "execute_result"
    },
    {
     "data": {
      "image/png": "[encoded data removed]",
      "text/plain": [
       "<Figure size 432x288 with 1 Axes>"
      ]
     },
     "metadata": {
      "needs_background": "light"
     },
     "output_type": "display_data"
    }
   ],
   "source": [
    "label_vis = ['built', 'tree', 'grass', 'crop', 'shrub']\n",
    "\n",
    "for l in label_vis:\n",
    "    plt.plot(results[l]['years'], results[l]['fractions'], '-o', label=l, color=COLOR_DICT[l])\n",
    "\n",
    "# plot const year of bridge\n",
    "plt.axvline(x=results[l]['years'][len(results[l]['years'])//2], color='c')\n",
    "plt.grid()\n",
    "\n",
    "plt.legend(bbox_to_anchor=(1.04, 1), borderaxespad=0)\n",
    "plt.title('Land Cover Fraction for Bridge at ({}, {}) from {} - {}'.format(lon, lat, start_year-3, end_year+2))"
   ]
  },
  {
   "cell_type": "code",
   "execution_count": 14,
   "id": "c7d6700b",
   "metadata": {},
   "outputs": [
    {
     "data": {
      "text/plain": [
       "Text(0.5, 1.0, 'Land Cover Fraction for Bridge at (82.38114581, 28.8258284) from 2016 - 2022')"
      ]
     },
     "execution_count": 14,
     "metadata": {},
     "output_type": "execute_result"
    },
    {
     "data": {
      "image/png": "[encoded data removed]",
      "text/plain": [
       "<Figure size 432x288 with 1 Axes>"
      ]
     },
     "metadata": {
      "needs_background": "light"
     },
     "output_type": "display_data"
    }
   ],
   "source": [
    "label_vis = ['built']\n",
    "\n",
    "for l in label_vis:\n",
    "    plt.plot(results[l]['years'], results[l]['fractions'], '-o', label=l, color=COLOR_DICT[l])\n",
    "\n",
    "# plot const year of bridge\n",
    "plt.axvline(x=results[l]['years'][len(results[l]['years'])//2], color='c')\n",
    "plt.grid()\n",
    "\n",
    "plt.legend(bbox_to_anchor=(1.04, 1), borderaxespad=0)\n",
    "plt.title('Land Cover Fraction for Bridge at ({}, {}) from {} - {}'.format(lon, lat, start_year-3, end_year+2))"
   ]
  },
  {
   "cell_type": "markdown",
   "id": "8b74967b",
   "metadata": {},
   "source": [
    "## Visualze the +/- percentage"
   ]
  },
  {
   "cell_type": "code",
   "execution_count": 15,
   "id": "4389874e",
   "metadata": {},
   "outputs": [
    {
     "data": {
      "text/plain": [
       "Text(0.5, 1.0, 'Land Cover Fraction (relative) for Bridge at (82.38114581, 28.8258284) from 2016 - 2022')"
      ]
     },
     "execution_count": 15,
     "metadata": {},
     "output_type": "execute_result"
    },
    {
     "data": {
      "image/png": "[encoded data removed]",
      "text/plain": [
       "<Figure size 432x288 with 1 Axes>"
      ]
     },
     "metadata": {
      "needs_background": "light"
     },
     "output_type": "display_data"
    }
   ],
   "source": [
    "label_vis = ['built', 'tree', 'grass', 'crop', 'shrub']\n",
    "\n",
    "for l in label_vis:\n",
    "    percent = np.array(results[l]['fractions'])/results[l]['fractions'][0]\n",
    "    plt.plot(results[l]['years'], percent, '-o', label=l, color=COLOR_DICT[l])\n",
    "\n",
    "# plot const year of bridge\n",
    "plt.axvline(x=results[l]['years'][len(results[l]['years'])//2], color='c')\n",
    "plt.grid()\n",
    "\n",
    "plt.legend(bbox_to_anchor=(1.04, 1), borderaxespad=0)\n",
    "plt.title('Land Cover Fraction (relative) for Bridge at ({}, {}) from {} - {}'.format(lon, lat, start_year-3, end_year+2))"
   ]
  }
 ],
 "metadata": {
  "kernelspec": {
   "display_name": "Python 3 (ipykernel)",
   "language": "python",
   "name": "python3"
  },
  "language_info": {
   "codemirror_mode": {
    "name": "ipython",
    "version": 3
   },
   "file_extension": ".py",
   "mimetype": "text/x-python",
   "name": "python",
   "nbconvert_exporter": "python",
   "pygments_lexer": "ipython3",
   "version": "3.8.10"
  }
 },
 "nbformat": 4,
 "nbformat_minor": 5
}
